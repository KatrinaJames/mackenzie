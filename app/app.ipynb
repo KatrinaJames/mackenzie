{
 "cells": [
  {
   "cell_type": "code",
   "execution_count": null,
   "metadata": {},
   "outputs": [],
   "source": [
    "import ipywidgets as widgets\n",
    "from IPython.core.display import HTML, display\n",
    "import pickle\n",
    "import plotly.express as px\n",
    "import plotly.graph_objs as go"
   ]
  },
  {
   "cell_type": "code",
   "execution_count": null,
   "metadata": {},
   "outputs": [],
   "source": [
    "title_html = \"\"\"\n",
    "<link href=\"https://cdn.jsdelivr.net/npm/bootstrap@5.3.3/dist/css/bootstrap.min.css\" rel=\"stylesheet\">\n",
    "\n",
    "<div class=\"container\">\n",
    "    <h1>Global Dividend Equity Analysis</h1>\n",
    "</div>\n",
    "\"\"\"\n",
    "\n",
    "js_html = HTML(\"\"\"\n",
    "<script type=\"text/javascript\">\n",
    "    document.title = \"Mackenzie Analysis\";\n",
    "</script>\n",
    "\"\"\")\n",
    "display(js_html)"
   ]
  },
  {
   "cell_type": "code",
   "execution_count": null,
   "metadata": {},
   "outputs": [],
   "source": [
    "intro_html = \"\"\"\n",
    "<div class=\"container\">\n",
    "    <div class=\"row\">\n",
    "        <div class=\"col\">\n",
    "            We are tasked to evaluate the following global dividend equity funds:\n",
    "            <ul>\n",
    "                <li>Fidelity Global Dividend Fund</li>\n",
    "                <li>CI Global Dividend</li>\n",
    "                <li>Dynamic Global Dividend</li>\n",
    "            </ul>\n",
    "        </div> <!-- col -->\n",
    "    </div> <!-- row -->\n",
    "    <div class=\"row\">\n",
    "        <div class=\"col\">\n",
    "            We do not have the series for these funds so we will use the F-class (fee-based) series to ensure an apples-to-apples comparison. This mapping can be found below:\n",
    "        </div> <!-- col -->\n",
    "    </div> <!-- row -->\n",
    "    <div class=\"row\">\n",
    "        <div class=\"col col-xs-6 col-lg-3 fw-bold text-decoration-underline\">\n",
    "            Fund Name\n",
    "        </div> <!-- col -->\n",
    "        <div class=\"col col-xs-6 col-lg-3 fw-bold text-decoration-underline\">\n",
    "            F-Series Fund Code\n",
    "        </div> <!-- col -->\n",
    "    </div> <!-- row -->\n",
    "    <div class=\"row\">\n",
    "        <div class=\"col col-xs-6 col-lg-3\">\n",
    "            Fidelity Global Dividend Fund\n",
    "        </div> <!-- col -->\n",
    "        <div class=\"col col-xs-6 col-lg-3\">\n",
    "            FID1640\n",
    "        </div> <!-- col -->\n",
    "    </div> <!-- row -->\n",
    "    <div class=\"row\">\n",
    "        <div class=\"col col-xs-6 col-lg-3\">\n",
    "            CI Global Dividend\n",
    "        </div> <!-- col -->\n",
    "        <div class=\"col col-xs-6 col-lg-3\">\n",
    "            CIG4778\n",
    "        </div> <!-- col -->\n",
    "    </div> <!-- row -->\n",
    "    <div class=\"row\">\n",
    "        <div class=\"col col-xs-6 col-lg-3\">\n",
    "            Dynamic Global Dividend\n",
    "        </div> <!-- col -->\n",
    "        <div class=\"col col-xs-6 col-lg-3\">\n",
    "            DYN426\n",
    "        </div> <!-- col -->\n",
    "    </div> <!-- row -->\n",
    "</div> <!-- container -->\n",
    "\"\"\""
   ]
  },
  {
   "cell_type": "code",
   "execution_count": null,
   "metadata": {},
   "outputs": [],
   "source": [
    "app_contents = [\n",
    "    widgets.HTML(title_html),\n",
    "    widgets.HTML(intro_html)\n",
    "]\n",
    "app = widgets.VBox(app_contents)"
   ]
  },
  {
   "cell_type": "code",
   "execution_count": null,
   "metadata": {},
   "outputs": [],
   "source": [
    "display(app)"
   ]
  }
 ],
 "metadata": {
  "kernelspec": {
   "display_name": "mackenzie",
   "language": "python",
   "name": "python3"
  },
  "language_info": {
   "name": "python",
   "version": "3.12.9"
  }
 },
 "nbformat": 4,
 "nbformat_minor": 2
}
